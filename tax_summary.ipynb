{
 "cells": [
  {
   "cell_type": "code",
   "execution_count": 1,
   "id": "b2422bec-0bc2-4e35-a00f-1a790cbc43c0",
   "metadata": {},
   "outputs": [],
   "source": [
    "from pathlib import Path"
   ]
  },
  {
   "cell_type": "code",
   "execution_count": 2,
   "id": "cf40fc34-d85a-4729-8b18-367dcd3c4bd2",
   "metadata": {},
   "outputs": [],
   "source": [
    "import taxopy"
   ]
  },
  {
   "cell_type": "code",
   "execution_count": 3,
   "id": "5135688b-3777-47a9-b60e-c05cf64b7939",
   "metadata": {},
   "outputs": [],
   "source": [
    "data_dir = Path(\"/home/moritz/Projects/UnseenBio/ChrHansen/UHGG-Annotations/data/raw/taxonomy\")"
   ]
  },
  {
   "cell_type": "code",
   "execution_count": 4,
   "id": "3011b634-0508-41b4-904a-3c5f38d16193",
   "metadata": {},
   "outputs": [],
   "source": [
    "taxonomy = taxopy.TaxDb(names_dmp=data_dir / \"names.dmp\", nodes_dmp=data_dir / \"nodes.dmp\")"
   ]
  },
  {
   "cell_type": "code",
   "execution_count": 5,
   "id": "69c9de9b-6202-4d0f-8e95-993dc31ee17a",
   "metadata": {},
   "outputs": [
    {
     "data": {
      "text/plain": [
       "'genus\\n'"
      ]
     },
     "execution_count": 5,
     "metadata": {},
     "output_type": "execute_result"
    }
   ],
   "source": [
    "taxonomy.taxid2rank[1620]"
   ]
  },
  {
   "cell_type": "code",
   "execution_count": null,
   "id": "f59dfcdd-e708-4955-9619-cdc9c7be438d",
   "metadata": {},
   "outputs": [],
   "source": []
  },
  {
   "cell_type": "code",
   "execution_count": 6,
   "id": "e4d52722-bfcf-4e13-8350-5dce4b019e8b",
   "metadata": {},
   "outputs": [
    {
     "data": {
      "text/plain": [
       "'root\\n'"
      ]
     },
     "execution_count": 6,
     "metadata": {},
     "output_type": "execute_result"
    }
   ],
   "source": [
    "taxonomy.taxid2rank[1]"
   ]
  },
  {
   "cell_type": "code",
   "execution_count": 7,
   "id": "1ba90f3b-c562-4938-aa1d-7d6b972f7031",
   "metadata": {},
   "outputs": [
    {
     "data": {
      "text/plain": [
       "'species\\n'"
      ]
     },
     "execution_count": 7,
     "metadata": {},
     "output_type": "execute_result"
    }
   ],
   "source": [
    "taxonomy.taxid2rank[5763]"
   ]
  }
 ],
 "metadata": {
  "kernelspec": {
   "display_name": "Python 3 (ipykernel)",
   "language": "python",
   "name": "python3"
  },
  "language_info": {
   "codemirror_mode": {
    "name": "ipython",
    "version": 3
   },
   "file_extension": ".py",
   "mimetype": "text/x-python",
   "name": "python",
   "nbconvert_exporter": "python",
   "pygments_lexer": "ipython3",
   "version": "3.11.1"
  }
 },
 "nbformat": 4,
 "nbformat_minor": 5
}
